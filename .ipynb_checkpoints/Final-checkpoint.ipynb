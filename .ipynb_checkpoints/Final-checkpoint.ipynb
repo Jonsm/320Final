{
 "cells": [
  {
   "cell_type": "markdown",
   "metadata": {},
   "source": [
    "# New York Vehicle Collision Data\n",
    "#### Jonathan San Miguel, Angela Kuriacose\n",
    "\n",
    "## Introduction\n",
    "Do you know what time is the most dangerous to drive? Using the New York Police Department's public vehicle collision data set and the principles of data science, we can answer this question, and more. First, we will show you how to collect the data and put it into a machine-readable form. Then we will show you how to process the data and do some exploratory analysis and visualization in order to come up with hypotheses about the data. Next, we will show you how to test these hypotheses using machine learning.\n",
    "\n",
    "## Required Tools\n",
    "You will need Python 3.5 and the following libraries:\n",
    "- pandas\n",
    "- numpy\n",
    "- matplotlib\n",
    "- scikit-learn\n",
    "\n",
    "We also recommend you use Anaconda (https://www.continuum.io) to manage and install your python libraries.\n",
    "\n",
    "Finally, you will need the New York vehicle collision dataset, which can be obtained at https://www.kaggle.com/nypd/vehicle-collisions."
   ]
  },
  {
   "cell_type": "markdown",
   "metadata": {},
   "source": [
    "## 1. Getting Started\n",
    "First, download the dataset from https://www.kaggle.com/nypd/vehicle-collisions. This will be in the form of a CSV (comma-separated values file) called database.csv. Now, we will need to load our CSV file into a form that we can manipulate using python. To do this, we will use the pandas library. Pandas uses a datatype called a data frame, which puts the data into a table and allows for convenient access using column names. For more information on pandas, see the following resources: \n",
    "\n",
    "- general documentation: http://pandas.pydata.org\n",
    "- pandas cheat sheet: https://www.dataquest.io/blog/images/cheat-sheets/pandas-cheat-sheet.pdf"
   ]
  },
  {
   "cell_type": "code",
   "execution_count": 324,
   "metadata": {
    "collapsed": false
   },
   "outputs": [],
   "source": [
    "import pandas as pd\n",
    "import numpy as np\n",
    "import matplotlib.pyplot as plt\n",
    "import re\n",
    "from sklearn import cross_validation\n",
    "import sklearn.metrics\n",
    "import warnings\n",
    "warnings.filterwarnings('ignore')"
   ]
  },
  {
   "cell_type": "code",
   "execution_count": 63,
   "metadata": {
    "collapsed": false
   },
   "outputs": [
    {
     "data": {
      "text/html": [
       "<div>\n",
       "<table border=\"1\" class=\"dataframe\">\n",
       "  <thead>\n",
       "    <tr style=\"text-align: right;\">\n",
       "      <th></th>\n",
       "      <th>UNIQUE KEY</th>\n",
       "      <th>DATE</th>\n",
       "      <th>TIME</th>\n",
       "      <th>BOROUGH</th>\n",
       "      <th>ZIP CODE</th>\n",
       "      <th>LATITUDE</th>\n",
       "      <th>LONGITUDE</th>\n",
       "      <th>LOCATION</th>\n",
       "      <th>ON STREET NAME</th>\n",
       "      <th>CROSS STREET NAME</th>\n",
       "      <th>...</th>\n",
       "      <th>VEHICLE 1 TYPE</th>\n",
       "      <th>VEHICLE 2 TYPE</th>\n",
       "      <th>VEHICLE 3 TYPE</th>\n",
       "      <th>VEHICLE 4 TYPE</th>\n",
       "      <th>VEHICLE 5 TYPE</th>\n",
       "      <th>VEHICLE 1 FACTOR</th>\n",
       "      <th>VEHICLE 2 FACTOR</th>\n",
       "      <th>VEHICLE 3 FACTOR</th>\n",
       "      <th>VEHICLE 4 FACTOR</th>\n",
       "      <th>VEHICLE 5 FACTOR</th>\n",
       "    </tr>\n",
       "  </thead>\n",
       "  <tbody>\n",
       "    <tr>\n",
       "      <th>0</th>\n",
       "      <td>3146911</td>\n",
       "      <td>01/01/2015</td>\n",
       "      <td>0:20</td>\n",
       "      <td>QUEENS</td>\n",
       "      <td>11358.0</td>\n",
       "      <td>40.751847</td>\n",
       "      <td>-73.787862</td>\n",
       "      <td>(40.7518471, -73.787862)</td>\n",
       "      <td>47 AVENUE</td>\n",
       "      <td>193 STREET</td>\n",
       "      <td>...</td>\n",
       "      <td>SPORT UTILITY/STATION WAGON</td>\n",
       "      <td>NaN</td>\n",
       "      <td>NaN</td>\n",
       "      <td>NaN</td>\n",
       "      <td>NaN</td>\n",
       "      <td>TRAFFIC CONTROL DISREGARDED</td>\n",
       "      <td>NaN</td>\n",
       "      <td>NaN</td>\n",
       "      <td>NaN</td>\n",
       "      <td>NaN</td>\n",
       "    </tr>\n",
       "    <tr>\n",
       "      <th>1</th>\n",
       "      <td>3146180</td>\n",
       "      <td>01/01/2015</td>\n",
       "      <td>0:20</td>\n",
       "      <td>NaN</td>\n",
       "      <td>NaN</td>\n",
       "      <td>40.771289</td>\n",
       "      <td>-73.946693</td>\n",
       "      <td>(40.7712888, -73.9466928)</td>\n",
       "      <td>NaN</td>\n",
       "      <td>NaN</td>\n",
       "      <td>...</td>\n",
       "      <td>PASSENGER VEHICLE</td>\n",
       "      <td>NaN</td>\n",
       "      <td>NaN</td>\n",
       "      <td>NaN</td>\n",
       "      <td>NaN</td>\n",
       "      <td>ANIMALS ACTION</td>\n",
       "      <td>NaN</td>\n",
       "      <td>NaN</td>\n",
       "      <td>NaN</td>\n",
       "      <td>NaN</td>\n",
       "    </tr>\n",
       "    <tr>\n",
       "      <th>2</th>\n",
       "      <td>3146384</td>\n",
       "      <td>01/01/2015</td>\n",
       "      <td>0:21</td>\n",
       "      <td>BROOKLYN</td>\n",
       "      <td>11205.0</td>\n",
       "      <td>40.689445</td>\n",
       "      <td>-73.955121</td>\n",
       "      <td>(40.6894449, -73.9551212)</td>\n",
       "      <td>BEDFORD AVENUE</td>\n",
       "      <td>LAFAYETTE AVENUE</td>\n",
       "      <td>...</td>\n",
       "      <td>PASSENGER VEHICLE</td>\n",
       "      <td>UNKNOWN</td>\n",
       "      <td>NaN</td>\n",
       "      <td>NaN</td>\n",
       "      <td>NaN</td>\n",
       "      <td>FATIGUED/DROWSY</td>\n",
       "      <td>UNSPECIFIED</td>\n",
       "      <td>NaN</td>\n",
       "      <td>NaN</td>\n",
       "      <td>NaN</td>\n",
       "    </tr>\n",
       "    <tr>\n",
       "      <th>3</th>\n",
       "      <td>3146013</td>\n",
       "      <td>01/01/2015</td>\n",
       "      <td>0:30</td>\n",
       "      <td>BROOKLYN</td>\n",
       "      <td>11213.0</td>\n",
       "      <td>40.673845</td>\n",
       "      <td>-73.925080</td>\n",
       "      <td>(40.6738445, -73.9250801)</td>\n",
       "      <td>BUFFALO AVENUE</td>\n",
       "      <td>SAINT MARKS AVENUE</td>\n",
       "      <td>...</td>\n",
       "      <td>BUS</td>\n",
       "      <td>PASSENGER VEHICLE</td>\n",
       "      <td>NaN</td>\n",
       "      <td>NaN</td>\n",
       "      <td>NaN</td>\n",
       "      <td>LOST CONSCIOUSNESS</td>\n",
       "      <td>NaN</td>\n",
       "      <td>NaN</td>\n",
       "      <td>NaN</td>\n",
       "      <td>NaN</td>\n",
       "    </tr>\n",
       "    <tr>\n",
       "      <th>4</th>\n",
       "      <td>3146120</td>\n",
       "      <td>01/01/2015</td>\n",
       "      <td>0:33</td>\n",
       "      <td>NaN</td>\n",
       "      <td>NaN</td>\n",
       "      <td>NaN</td>\n",
       "      <td>NaN</td>\n",
       "      <td>NaN</td>\n",
       "      <td>RICHMOND TERRACE</td>\n",
       "      <td>SOUTH AVENUE</td>\n",
       "      <td>...</td>\n",
       "      <td>UNKNOWN</td>\n",
       "      <td>PASSENGER VEHICLE</td>\n",
       "      <td>NaN</td>\n",
       "      <td>NaN</td>\n",
       "      <td>NaN</td>\n",
       "      <td>UNSPECIFIED</td>\n",
       "      <td>UNSPECIFIED</td>\n",
       "      <td>NaN</td>\n",
       "      <td>NaN</td>\n",
       "      <td>NaN</td>\n",
       "    </tr>\n",
       "  </tbody>\n",
       "</table>\n",
       "<p>5 rows × 29 columns</p>\n",
       "</div>"
      ],
      "text/plain": [
       "   UNIQUE KEY        DATE  TIME   BOROUGH  ZIP CODE   LATITUDE  LONGITUDE  \\\n",
       "0     3146911  01/01/2015  0:20    QUEENS   11358.0  40.751847 -73.787862   \n",
       "1     3146180  01/01/2015  0:20       NaN       NaN  40.771289 -73.946693   \n",
       "2     3146384  01/01/2015  0:21  BROOKLYN   11205.0  40.689445 -73.955121   \n",
       "3     3146013  01/01/2015  0:30  BROOKLYN   11213.0  40.673845 -73.925080   \n",
       "4     3146120  01/01/2015  0:33       NaN       NaN        NaN        NaN   \n",
       "\n",
       "                    LOCATION    ON STREET NAME   CROSS STREET NAME  \\\n",
       "0   (40.7518471, -73.787862)         47 AVENUE          193 STREET   \n",
       "1  (40.7712888, -73.9466928)               NaN                 NaN   \n",
       "2  (40.6894449, -73.9551212)    BEDFORD AVENUE    LAFAYETTE AVENUE   \n",
       "3  (40.6738445, -73.9250801)    BUFFALO AVENUE  SAINT MARKS AVENUE   \n",
       "4                        NaN  RICHMOND TERRACE        SOUTH AVENUE   \n",
       "\n",
       "        ...                      VEHICLE 1 TYPE     VEHICLE 2 TYPE  \\\n",
       "0       ...         SPORT UTILITY/STATION WAGON                NaN   \n",
       "1       ...                   PASSENGER VEHICLE                NaN   \n",
       "2       ...                   PASSENGER VEHICLE            UNKNOWN   \n",
       "3       ...                                 BUS  PASSENGER VEHICLE   \n",
       "4       ...                             UNKNOWN  PASSENGER VEHICLE   \n",
       "\n",
       "   VEHICLE 3 TYPE  VEHICLE 4 TYPE  VEHICLE 5 TYPE  \\\n",
       "0             NaN             NaN             NaN   \n",
       "1             NaN             NaN             NaN   \n",
       "2             NaN             NaN             NaN   \n",
       "3             NaN             NaN             NaN   \n",
       "4             NaN             NaN             NaN   \n",
       "\n",
       "              VEHICLE 1 FACTOR  VEHICLE 2 FACTOR  VEHICLE 3 FACTOR  \\\n",
       "0  TRAFFIC CONTROL DISREGARDED               NaN               NaN   \n",
       "1               ANIMALS ACTION               NaN               NaN   \n",
       "2              FATIGUED/DROWSY       UNSPECIFIED               NaN   \n",
       "3           LOST CONSCIOUSNESS               NaN               NaN   \n",
       "4                  UNSPECIFIED       UNSPECIFIED               NaN   \n",
       "\n",
       "   VEHICLE 4 FACTOR VEHICLE 5 FACTOR  \n",
       "0               NaN              NaN  \n",
       "1               NaN              NaN  \n",
       "2               NaN              NaN  \n",
       "3               NaN              NaN  \n",
       "4               NaN              NaN  \n",
       "\n",
       "[5 rows x 29 columns]"
      ]
     },
     "execution_count": 63,
     "metadata": {},
     "output_type": "execute_result"
    }
   ],
   "source": [
    "#load our data into dataframe\n",
    "collisions_df = pd.read_csv(\"database.csv\")\n",
    "#print first 5 rows of our data in a human-readable form.\n",
    "collisions_df.head()"
   ]
  },
  {
   "cell_type": "markdown",
   "metadata": {},
   "source": [
    "### 1.1 Looking at our data\n",
    "Now we have a pandas data frame called collisions_df. Here we can see some of the basic features of our data, such as date, time, location, and the factors involved in the collision. Missing data is indicated as NaN."
   ]
  },
  {
   "cell_type": "markdown",
   "metadata": {},
   "source": [
    "### 1.2 Tidying our data\n",
    "When we read our data from a csv, all of the types were strings. However, for some types of processing we will want to use more specific python types. Generally, all integers are automatically parsed from strings, so the only thing we are concerned about is the date. So we'll convert the date string into a datetime object."
   ]
  },
  {
   "cell_type": "code",
   "execution_count": 97,
   "metadata": {
    "collapsed": false
   },
   "outputs": [],
   "source": [
    "#convert date string to datetime\n",
    "collisions_df['DATE'] = pd.to_datetime(collisions_df['DATE'])"
   ]
  },
  {
   "cell_type": "markdown",
   "metadata": {},
   "source": [
    "Next, we can see that our dataframe has a large number of columns, and many of them are empty (have a NaN value). We will tidy our data by putting it into cleaner dataframes so it is more readable and there are fewer missing cells. Notice that most of the missing data is in the last 10 columns: vehicle factor and vehicle type. The database allows for up to 5 vehicles in a collision, but most collisions have far fewer. To tidy the data, first we will split it into 3 parts: one for vehicle types, one for vehicle factors, and one for all other data. To tie all of the information together, we will use the Unique Key, which is an identifier for all accidents."
   ]
  },
  {
   "cell_type": "code",
   "execution_count": 98,
   "metadata": {
    "collapsed": false
   },
   "outputs": [
    {
     "data": {
      "text/html": [
       "<div>\n",
       "<table border=\"1\" class=\"dataframe\">\n",
       "  <thead>\n",
       "    <tr style=\"text-align: right;\">\n",
       "      <th></th>\n",
       "      <th>UNIQUE KEY</th>\n",
       "      <th>VEHICLE 1 FACTOR</th>\n",
       "      <th>VEHICLE 2 FACTOR</th>\n",
       "      <th>VEHICLE 3 FACTOR</th>\n",
       "      <th>VEHICLE 4 FACTOR</th>\n",
       "      <th>VEHICLE 5 FACTOR</th>\n",
       "    </tr>\n",
       "  </thead>\n",
       "  <tbody>\n",
       "    <tr>\n",
       "      <th>0</th>\n",
       "      <td>3146911</td>\n",
       "      <td>TRAFFIC CONTROL DISREGARDED</td>\n",
       "      <td>NaN</td>\n",
       "      <td>NaN</td>\n",
       "      <td>NaN</td>\n",
       "      <td>NaN</td>\n",
       "    </tr>\n",
       "    <tr>\n",
       "      <th>1</th>\n",
       "      <td>3146180</td>\n",
       "      <td>ANIMALS ACTION</td>\n",
       "      <td>NaN</td>\n",
       "      <td>NaN</td>\n",
       "      <td>NaN</td>\n",
       "      <td>NaN</td>\n",
       "    </tr>\n",
       "    <tr>\n",
       "      <th>2</th>\n",
       "      <td>3146384</td>\n",
       "      <td>FATIGUED/DROWSY</td>\n",
       "      <td>UNSPECIFIED</td>\n",
       "      <td>NaN</td>\n",
       "      <td>NaN</td>\n",
       "      <td>NaN</td>\n",
       "    </tr>\n",
       "    <tr>\n",
       "      <th>3</th>\n",
       "      <td>3146013</td>\n",
       "      <td>LOST CONSCIOUSNESS</td>\n",
       "      <td>NaN</td>\n",
       "      <td>NaN</td>\n",
       "      <td>NaN</td>\n",
       "      <td>NaN</td>\n",
       "    </tr>\n",
       "    <tr>\n",
       "      <th>4</th>\n",
       "      <td>3146120</td>\n",
       "      <td>UNSPECIFIED</td>\n",
       "      <td>UNSPECIFIED</td>\n",
       "      <td>NaN</td>\n",
       "      <td>NaN</td>\n",
       "      <td>NaN</td>\n",
       "    </tr>\n",
       "  </tbody>\n",
       "</table>\n",
       "</div>"
      ],
      "text/plain": [
       "   UNIQUE KEY             VEHICLE 1 FACTOR VEHICLE 2 FACTOR VEHICLE 3 FACTOR  \\\n",
       "0     3146911  TRAFFIC CONTROL DISREGARDED              NaN              NaN   \n",
       "1     3146180               ANIMALS ACTION              NaN              NaN   \n",
       "2     3146384              FATIGUED/DROWSY      UNSPECIFIED              NaN   \n",
       "3     3146013           LOST CONSCIOUSNESS              NaN              NaN   \n",
       "4     3146120                  UNSPECIFIED      UNSPECIFIED              NaN   \n",
       "\n",
       "  VEHICLE 4 FACTOR VEHICLE 5 FACTOR  \n",
       "0              NaN              NaN  \n",
       "1              NaN              NaN  \n",
       "2              NaN              NaN  \n",
       "3              NaN              NaN  \n",
       "4              NaN              NaN  "
      ]
     },
     "execution_count": 98,
     "metadata": {},
     "output_type": "execute_result"
    }
   ],
   "source": [
    "# split it into 3 parts\n",
    "vehicle_types = pd.DataFrame(collisions_df[['UNIQUE KEY', 'VEHICLE 1 TYPE', 'VEHICLE 2 TYPE', \\\n",
    "                                            'VEHICLE 3 TYPE','VEHICLE 4 TYPE', 'VEHICLE 5 TYPE']]).copy()\n",
    "vehicle_factors = pd.DataFrame(collisions_df[['UNIQUE KEY', 'VEHICLE 1 FACTOR', 'VEHICLE 2 FACTOR', \\\n",
    "                                            'VEHICLE 3 FACTOR','VEHICLE 4 FACTOR', 'VEHICLE 5 FACTOR']]).copy()\n",
    "\n",
    "#get rid of factors and type columns in main collision table\n",
    "collisions_main = collisions_df.copy()\n",
    "collisions_main = collisions_main.drop(['VEHICLE 1 TYPE', 'VEHICLE 2 TYPE', 'VEHICLE 3 TYPE','VEHICLE 4 TYPE', \\\n",
    "                                        'VEHICLE 5 TYPE', 'VEHICLE 1 FACTOR', 'VEHICLE 2 FACTOR', \\\n",
    "                                        'VEHICLE 3 FACTOR','VEHICLE 4 FACTOR', 'VEHICLE 5 FACTOR'], axis = 1)\n",
    "\n",
    "vehicle_factors.head()"
   ]
  },
  {
   "cell_type": "code",
   "execution_count": 100,
   "metadata": {
    "collapsed": false
   },
   "outputs": [
    {
     "data": {
      "text/html": [
       "<div>\n",
       "<table border=\"1\" class=\"dataframe\">\n",
       "  <thead>\n",
       "    <tr style=\"text-align: right;\">\n",
       "      <th></th>\n",
       "      <th>UNIQUE KEY</th>\n",
       "      <th>VEHICLE 1 TYPE</th>\n",
       "      <th>VEHICLE 2 TYPE</th>\n",
       "      <th>VEHICLE 3 TYPE</th>\n",
       "      <th>VEHICLE 4 TYPE</th>\n",
       "      <th>VEHICLE 5 TYPE</th>\n",
       "    </tr>\n",
       "  </thead>\n",
       "  <tbody>\n",
       "    <tr>\n",
       "      <th>0</th>\n",
       "      <td>3146911</td>\n",
       "      <td>SPORT UTILITY/STATION WAGON</td>\n",
       "      <td>NaN</td>\n",
       "      <td>NaN</td>\n",
       "      <td>NaN</td>\n",
       "      <td>NaN</td>\n",
       "    </tr>\n",
       "    <tr>\n",
       "      <th>1</th>\n",
       "      <td>3146180</td>\n",
       "      <td>PASSENGER VEHICLE</td>\n",
       "      <td>NaN</td>\n",
       "      <td>NaN</td>\n",
       "      <td>NaN</td>\n",
       "      <td>NaN</td>\n",
       "    </tr>\n",
       "    <tr>\n",
       "      <th>2</th>\n",
       "      <td>3146384</td>\n",
       "      <td>PASSENGER VEHICLE</td>\n",
       "      <td>UNKNOWN</td>\n",
       "      <td>NaN</td>\n",
       "      <td>NaN</td>\n",
       "      <td>NaN</td>\n",
       "    </tr>\n",
       "    <tr>\n",
       "      <th>3</th>\n",
       "      <td>3146013</td>\n",
       "      <td>BUS</td>\n",
       "      <td>PASSENGER VEHICLE</td>\n",
       "      <td>NaN</td>\n",
       "      <td>NaN</td>\n",
       "      <td>NaN</td>\n",
       "    </tr>\n",
       "    <tr>\n",
       "      <th>4</th>\n",
       "      <td>3146120</td>\n",
       "      <td>UNKNOWN</td>\n",
       "      <td>PASSENGER VEHICLE</td>\n",
       "      <td>NaN</td>\n",
       "      <td>NaN</td>\n",
       "      <td>NaN</td>\n",
       "    </tr>\n",
       "  </tbody>\n",
       "</table>\n",
       "</div>"
      ],
      "text/plain": [
       "   UNIQUE KEY               VEHICLE 1 TYPE     VEHICLE 2 TYPE VEHICLE 3 TYPE  \\\n",
       "0     3146911  SPORT UTILITY/STATION WAGON                NaN            NaN   \n",
       "1     3146180            PASSENGER VEHICLE                NaN            NaN   \n",
       "2     3146384            PASSENGER VEHICLE            UNKNOWN            NaN   \n",
       "3     3146013                          BUS  PASSENGER VEHICLE            NaN   \n",
       "4     3146120                      UNKNOWN  PASSENGER VEHICLE            NaN   \n",
       "\n",
       "  VEHICLE 4 TYPE VEHICLE 5 TYPE  \n",
       "0            NaN            NaN  \n",
       "1            NaN            NaN  \n",
       "2            NaN            NaN  \n",
       "3            NaN            NaN  \n",
       "4            NaN            NaN  "
      ]
     },
     "execution_count": 100,
     "metadata": {},
     "output_type": "execute_result"
    }
   ],
   "source": [
    "vehicle_types.head()"
   ]
  },
  {
   "cell_type": "code",
   "execution_count": 101,
   "metadata": {
    "collapsed": false
   },
   "outputs": [
    {
     "data": {
      "text/html": [
       "<div>\n",
       "<table border=\"1\" class=\"dataframe\">\n",
       "  <thead>\n",
       "    <tr style=\"text-align: right;\">\n",
       "      <th></th>\n",
       "      <th>UNIQUE KEY</th>\n",
       "      <th>DATE</th>\n",
       "      <th>TIME</th>\n",
       "      <th>BOROUGH</th>\n",
       "      <th>ZIP CODE</th>\n",
       "      <th>LATITUDE</th>\n",
       "      <th>LONGITUDE</th>\n",
       "      <th>LOCATION</th>\n",
       "      <th>ON STREET NAME</th>\n",
       "      <th>CROSS STREET NAME</th>\n",
       "      <th>OFF STREET NAME</th>\n",
       "      <th>PERSONS INJURED</th>\n",
       "      <th>PERSONS KILLED</th>\n",
       "      <th>PEDESTRIANS INJURED</th>\n",
       "      <th>PEDESTRIANS KILLED</th>\n",
       "      <th>CYCLISTS INJURED</th>\n",
       "      <th>CYCLISTS KILLED</th>\n",
       "      <th>MOTORISTS INJURED</th>\n",
       "      <th>MOTORISTS KILLED</th>\n",
       "    </tr>\n",
       "  </thead>\n",
       "  <tbody>\n",
       "    <tr>\n",
       "      <th>0</th>\n",
       "      <td>3146911</td>\n",
       "      <td>2015-01-01</td>\n",
       "      <td>0:20</td>\n",
       "      <td>QUEENS</td>\n",
       "      <td>11358.0</td>\n",
       "      <td>40.751847</td>\n",
       "      <td>-73.787862</td>\n",
       "      <td>(40.7518471, -73.787862)</td>\n",
       "      <td>47 AVENUE</td>\n",
       "      <td>193 STREET</td>\n",
       "      <td>NaN</td>\n",
       "      <td>0</td>\n",
       "      <td>0</td>\n",
       "      <td>0</td>\n",
       "      <td>0</td>\n",
       "      <td>0</td>\n",
       "      <td>0</td>\n",
       "      <td>0</td>\n",
       "      <td>0</td>\n",
       "    </tr>\n",
       "    <tr>\n",
       "      <th>1</th>\n",
       "      <td>3146180</td>\n",
       "      <td>2015-01-01</td>\n",
       "      <td>0:20</td>\n",
       "      <td>NaN</td>\n",
       "      <td>NaN</td>\n",
       "      <td>40.771289</td>\n",
       "      <td>-73.946693</td>\n",
       "      <td>(40.7712888, -73.9466928)</td>\n",
       "      <td>NaN</td>\n",
       "      <td>NaN</td>\n",
       "      <td>NaN</td>\n",
       "      <td>1</td>\n",
       "      <td>0</td>\n",
       "      <td>0</td>\n",
       "      <td>0</td>\n",
       "      <td>0</td>\n",
       "      <td>0</td>\n",
       "      <td>1</td>\n",
       "      <td>0</td>\n",
       "    </tr>\n",
       "    <tr>\n",
       "      <th>2</th>\n",
       "      <td>3146384</td>\n",
       "      <td>2015-01-01</td>\n",
       "      <td>0:21</td>\n",
       "      <td>BROOKLYN</td>\n",
       "      <td>11205.0</td>\n",
       "      <td>40.689445</td>\n",
       "      <td>-73.955121</td>\n",
       "      <td>(40.6894449, -73.9551212)</td>\n",
       "      <td>BEDFORD AVENUE</td>\n",
       "      <td>LAFAYETTE AVENUE</td>\n",
       "      <td>NaN</td>\n",
       "      <td>0</td>\n",
       "      <td>0</td>\n",
       "      <td>0</td>\n",
       "      <td>0</td>\n",
       "      <td>0</td>\n",
       "      <td>0</td>\n",
       "      <td>0</td>\n",
       "      <td>0</td>\n",
       "    </tr>\n",
       "    <tr>\n",
       "      <th>3</th>\n",
       "      <td>3146013</td>\n",
       "      <td>2015-01-01</td>\n",
       "      <td>0:30</td>\n",
       "      <td>BROOKLYN</td>\n",
       "      <td>11213.0</td>\n",
       "      <td>40.673845</td>\n",
       "      <td>-73.925080</td>\n",
       "      <td>(40.6738445, -73.9250801)</td>\n",
       "      <td>BUFFALO AVENUE</td>\n",
       "      <td>SAINT MARKS AVENUE</td>\n",
       "      <td>NaN</td>\n",
       "      <td>0</td>\n",
       "      <td>0</td>\n",
       "      <td>0</td>\n",
       "      <td>0</td>\n",
       "      <td>0</td>\n",
       "      <td>0</td>\n",
       "      <td>0</td>\n",
       "      <td>0</td>\n",
       "    </tr>\n",
       "    <tr>\n",
       "      <th>4</th>\n",
       "      <td>3146120</td>\n",
       "      <td>2015-01-01</td>\n",
       "      <td>0:33</td>\n",
       "      <td>NaN</td>\n",
       "      <td>NaN</td>\n",
       "      <td>NaN</td>\n",
       "      <td>NaN</td>\n",
       "      <td>NaN</td>\n",
       "      <td>RICHMOND TERRACE</td>\n",
       "      <td>SOUTH AVENUE</td>\n",
       "      <td>NaN</td>\n",
       "      <td>0</td>\n",
       "      <td>0</td>\n",
       "      <td>0</td>\n",
       "      <td>0</td>\n",
       "      <td>0</td>\n",
       "      <td>0</td>\n",
       "      <td>0</td>\n",
       "      <td>0</td>\n",
       "    </tr>\n",
       "  </tbody>\n",
       "</table>\n",
       "</div>"
      ],
      "text/plain": [
       "   UNIQUE KEY       DATE  TIME   BOROUGH  ZIP CODE   LATITUDE  LONGITUDE  \\\n",
       "0     3146911 2015-01-01  0:20    QUEENS   11358.0  40.751847 -73.787862   \n",
       "1     3146180 2015-01-01  0:20       NaN       NaN  40.771289 -73.946693   \n",
       "2     3146384 2015-01-01  0:21  BROOKLYN   11205.0  40.689445 -73.955121   \n",
       "3     3146013 2015-01-01  0:30  BROOKLYN   11213.0  40.673845 -73.925080   \n",
       "4     3146120 2015-01-01  0:33       NaN       NaN        NaN        NaN   \n",
       "\n",
       "                    LOCATION    ON STREET NAME   CROSS STREET NAME  \\\n",
       "0   (40.7518471, -73.787862)         47 AVENUE          193 STREET   \n",
       "1  (40.7712888, -73.9466928)               NaN                 NaN   \n",
       "2  (40.6894449, -73.9551212)    BEDFORD AVENUE    LAFAYETTE AVENUE   \n",
       "3  (40.6738445, -73.9250801)    BUFFALO AVENUE  SAINT MARKS AVENUE   \n",
       "4                        NaN  RICHMOND TERRACE        SOUTH AVENUE   \n",
       "\n",
       "  OFF STREET NAME  PERSONS INJURED  PERSONS KILLED  PEDESTRIANS INJURED  \\\n",
       "0             NaN                0               0                    0   \n",
       "1             NaN                1               0                    0   \n",
       "2             NaN                0               0                    0   \n",
       "3             NaN                0               0                    0   \n",
       "4             NaN                0               0                    0   \n",
       "\n",
       "   PEDESTRIANS KILLED  CYCLISTS INJURED  CYCLISTS KILLED  MOTORISTS INJURED  \\\n",
       "0                   0                 0                0                  0   \n",
       "1                   0                 0                0                  1   \n",
       "2                   0                 0                0                  0   \n",
       "3                   0                 0                0                  0   \n",
       "4                   0                 0                0                  0   \n",
       "\n",
       "   MOTORISTS KILLED  \n",
       "0                 0  \n",
       "1                 0  \n",
       "2                 0  \n",
       "3                 0  \n",
       "4                 0  "
      ]
     },
     "execution_count": 101,
     "metadata": {},
     "output_type": "execute_result"
    }
   ],
   "source": [
    "collisions_main.head()"
   ]
  },
  {
   "cell_type": "markdown",
   "metadata": {},
   "source": [
    "Now our tables are smaller and easier to digest. But we still have all the missing data. To get of this we will use the melt function in Pandas, which lowers the number of columns and increases the number of rows. Read more about the melt function here: http://pandas.pydata.org/pandas-docs/stable/generated/pandas.melt.html."
   ]
  },
  {
   "cell_type": "code",
   "execution_count": 102,
   "metadata": {
    "collapsed": false
   },
   "outputs": [
    {
     "data": {
      "text/html": [
       "<div>\n",
       "<table border=\"1\" class=\"dataframe\">\n",
       "  <thead>\n",
       "    <tr style=\"text-align: right;\">\n",
       "      <th></th>\n",
       "      <th>UNIQUE KEY</th>\n",
       "      <th>TYPE</th>\n",
       "    </tr>\n",
       "  </thead>\n",
       "  <tbody>\n",
       "    <tr>\n",
       "      <th>0</th>\n",
       "      <td>3146911</td>\n",
       "      <td>SPORT UTILITY/STATION WAGON</td>\n",
       "    </tr>\n",
       "    <tr>\n",
       "      <th>1</th>\n",
       "      <td>3146180</td>\n",
       "      <td>PASSENGER VEHICLE</td>\n",
       "    </tr>\n",
       "    <tr>\n",
       "      <th>2</th>\n",
       "      <td>3146384</td>\n",
       "      <td>PASSENGER VEHICLE</td>\n",
       "    </tr>\n",
       "    <tr>\n",
       "      <th>3</th>\n",
       "      <td>3146013</td>\n",
       "      <td>BUS</td>\n",
       "    </tr>\n",
       "    <tr>\n",
       "      <th>4</th>\n",
       "      <td>3146120</td>\n",
       "      <td>UNKNOWN</td>\n",
       "    </tr>\n",
       "  </tbody>\n",
       "</table>\n",
       "</div>"
      ],
      "text/plain": [
       "   UNIQUE KEY                         TYPE\n",
       "0     3146911  SPORT UTILITY/STATION WAGON\n",
       "1     3146180            PASSENGER VEHICLE\n",
       "2     3146384            PASSENGER VEHICLE\n",
       "3     3146013                          BUS\n",
       "4     3146120                      UNKNOWN"
      ]
     },
     "execution_count": 102,
     "metadata": {},
     "output_type": "execute_result"
    }
   ],
   "source": [
    "#melt the data (for types)\n",
    "types_melted = pd.melt(vehicle_types, id_vars=['UNIQUE KEY'], value_vars=['VEHICLE 1 TYPE', 'VEHICLE 2 TYPE', \\\n",
    "                                            'VEHICLE 3 TYPE','VEHICLE 4 TYPE', 'VEHICLE 5 TYPE'], value_name='TYPE')\n",
    "types_melted = types_melted.drop('variable', axis=1)\n",
    "# get rid of NaNs\n",
    "types_melted = types_melted.dropna()\n",
    "\n",
    "#repeat on factors\n",
    "factors_melted = pd.melt(vehicle_factors, id_vars=['UNIQUE KEY'], value_vars=['VEHICLE 1 FACTOR', 'VEHICLE 2 FACTOR', \\\n",
    "                                            'VEHICLE 3 FACTOR','VEHICLE 4 FACTOR', 'VEHICLE 5 FACTOR'], value_name='FACTOR')\n",
    "factors_melted = factors_melted.drop('variable', axis=1)\n",
    "factors_melted = factors_melted.dropna()\n",
    "\n",
    "types_melted.head()"
   ]
  },
  {
   "cell_type": "code",
   "execution_count": 103,
   "metadata": {
    "collapsed": false
   },
   "outputs": [
    {
     "data": {
      "text/html": [
       "<div>\n",
       "<table border=\"1\" class=\"dataframe\">\n",
       "  <thead>\n",
       "    <tr style=\"text-align: right;\">\n",
       "      <th></th>\n",
       "      <th>UNIQUE KEY</th>\n",
       "      <th>FACTOR</th>\n",
       "    </tr>\n",
       "  </thead>\n",
       "  <tbody>\n",
       "    <tr>\n",
       "      <th>0</th>\n",
       "      <td>3146911</td>\n",
       "      <td>TRAFFIC CONTROL DISREGARDED</td>\n",
       "    </tr>\n",
       "    <tr>\n",
       "      <th>1</th>\n",
       "      <td>3146180</td>\n",
       "      <td>ANIMALS ACTION</td>\n",
       "    </tr>\n",
       "    <tr>\n",
       "      <th>2</th>\n",
       "      <td>3146384</td>\n",
       "      <td>FATIGUED/DROWSY</td>\n",
       "    </tr>\n",
       "    <tr>\n",
       "      <th>3</th>\n",
       "      <td>3146013</td>\n",
       "      <td>LOST CONSCIOUSNESS</td>\n",
       "    </tr>\n",
       "    <tr>\n",
       "      <th>4</th>\n",
       "      <td>3146120</td>\n",
       "      <td>UNSPECIFIED</td>\n",
       "    </tr>\n",
       "  </tbody>\n",
       "</table>\n",
       "</div>"
      ],
      "text/plain": [
       "   UNIQUE KEY                       FACTOR\n",
       "0     3146911  TRAFFIC CONTROL DISREGARDED\n",
       "1     3146180               ANIMALS ACTION\n",
       "2     3146384              FATIGUED/DROWSY\n",
       "3     3146013           LOST CONSCIOUSNESS\n",
       "4     3146120                  UNSPECIFIED"
      ]
     },
     "execution_count": 103,
     "metadata": {},
     "output_type": "execute_result"
    }
   ],
   "source": [
    "factors_melted.head()"
   ]
  },
  {
   "cell_type": "markdown",
   "metadata": {},
   "source": [
    "## 2. Exploratory Data Analysis\n",
    "Now that our data is nice and tidy, we can start performing analysis on it. The purposes of this analysis will be to get more information about general trends and patterns in our data so that we can make testable hypotheses. We will perform two kinds of analysis: visualization and statistical measures."
   ]
  },
  {
   "cell_type": "markdown",
   "metadata": {},
   "source": [
    "### 2.1 Time-based visualization\n",
    "Because our data contains time stamps, we can see whether collision depend upon time. We will try to find correlations by time of day and time of year. To plot our data, we will use the Matplotlib library. For more information about matplotlib, see the docs here: http://matplotlib.org/contents.html. There are many questions we could ask, but a natural one is how many accidents occur at specific times?"
   ]
  },
  {
   "cell_type": "markdown",
   "metadata": {},
   "source": [
    "#### 2.1.1 Grouping our data\n",
    "Since our data is in the form of individual collisions, we will need a way to group data by time. To do this, we'll use the Pandas groupby function. This function lets you combine all rows that have a certain feature in common, such as year or time. Read more about groupby here: http://pandas.pydata.org/pandas-docs/stable/generated/pandas.DataFrame.groupby.html. First, let's group by date."
   ]
  },
  {
   "cell_type": "code",
   "execution_count": 132,
   "metadata": {
    "collapsed": false
   },
   "outputs": [
    {
     "data": {
      "text/html": [
       "<div>\n",
       "<table border=\"1\" class=\"dataframe\">\n",
       "  <thead>\n",
       "    <tr style=\"text-align: right;\">\n",
       "      <th></th>\n",
       "      <th>DATE</th>\n",
       "      <th>COUNT</th>\n",
       "    </tr>\n",
       "  </thead>\n",
       "  <tbody>\n",
       "    <tr>\n",
       "      <th>0</th>\n",
       "      <td>2015-01-01</td>\n",
       "      <td>395</td>\n",
       "    </tr>\n",
       "    <tr>\n",
       "      <th>1</th>\n",
       "      <td>2015-01-02</td>\n",
       "      <td>442</td>\n",
       "    </tr>\n",
       "    <tr>\n",
       "      <th>2</th>\n",
       "      <td>2015-01-03</td>\n",
       "      <td>456</td>\n",
       "    </tr>\n",
       "    <tr>\n",
       "      <th>3</th>\n",
       "      <td>2015-01-04</td>\n",
       "      <td>380</td>\n",
       "    </tr>\n",
       "    <tr>\n",
       "      <th>4</th>\n",
       "      <td>2015-01-05</td>\n",
       "      <td>498</td>\n",
       "    </tr>\n",
       "  </tbody>\n",
       "</table>\n",
       "</div>"
      ],
      "text/plain": [
       "        DATE  COUNT\n",
       "0 2015-01-01    395\n",
       "1 2015-01-02    442\n",
       "2 2015-01-03    456\n",
       "3 2015-01-04    380\n",
       "4 2015-01-05    498"
      ]
     },
     "execution_count": 132,
     "metadata": {},
     "output_type": "execute_result"
    }
   ],
   "source": [
    "#find total number of accidents on a specific date\n",
    "collisions_grouped_date = collisions_main.copy()\n",
    "collisions_grouped_date = collisions_grouped_date.groupby(collisions_grouped_date['DATE'], \\\n",
    "                                                          as_index=True, group_keys=True).count().reset_index()\n",
    "collisions_grouped_date = collisions_grouped_date.rename(index=str, columns={'UNIQUE KEY' : 'COUNT'})\n",
    "collisions_grouped_date = collisions_grouped_date.sort_values(by='DATE')\n",
    "collisions_grouped_date[['DATE', 'COUNT']].head()"
   ]
  },
  {
   "cell_type": "code",
   "execution_count": 136,
   "metadata": {
    "collapsed": false
   },
   "outputs": [
    {
     "data": {
      "image/png": "[encoded data removed]",
      "text/plain": [
       "<matplotlib.figure.Figure at 0x165cba860>"
      ]
     },
     "metadata": {},
     "output_type": "display_data"
    }
   ],
   "source": [
    "#plot the data\n",
    "fig, ax = plt.subplots(figsize=(10,6))\n",
    "plt.plot_date(collisions_grouped_date['DATE'], collisions_grouped_date['COUNT'], '-')\n",
    "plt.title('Collisions vs Date')\n",
    "plt.ylabel('Accidents per Day')\n",
    "plt.xlabel('Date')\n",
    "plt.show()"
   ]
  },
  {
   "cell_type": "markdown",
   "metadata": {},
   "source": [
    "#### 2.1.2 Statistical Measures\n",
    "Looking at this picture, we see that the accidents stay relatively stable throughout this span of time. However, we can get more precise information by looking at the mean and standard deviation of the collisions per day. The mean tells us the average amount of collisions per day, and the standard deviation tells us how much collisions per day tend to vary."
   ]
  },
  {
   "cell_type": "code",
   "execution_count": 137,
   "metadata": {
    "collapsed": false
   },
   "outputs": [
    {
     "name": "stdout",
     "output_type": "stream",
     "text": [
      "The mean is 604.7240506329114\n",
      "The standard deviation is 101.63742962827375\n"
     ]
    }
   ],
   "source": [
    "#check mean\n",
    "print(\"The mean is \" + str(collisions_grouped_date['COUNT'].mean()))\n",
    "print(\"The standard deviation is \" + str(collisions_grouped_date['COUNT'].std()))"
   ]
  },
  {
   "cell_type": "markdown",
   "metadata": {},
   "source": [
    "### 2.2 Time of Day\n",
    "We can also look at time of day. There could be a different rate of accidents during the day and night, for example, because of visibility or because of rush hour. However, first we need to \"bin\" our data. This is because the data is too fine-grained: the data is in terms of minutes, but minutes are too small of a timescale for one full day. Instead, we'll convert our data to hours. This is a tradeoff, because we are losing some specificity, but in exchange our data will be more readable.\n",
    "\n",
    "To parse our times into hours, we will have to turn strings of the form HH:MM into just HH. To do this, we will use regular expressions. For more information on regular expressions in python, see: https://docs.python.org/2/library/re.html.\n",
    "We'll also the Pandas function Apply to apply the regular expression to all rows in the dataframe."
   ]
  },
  {
   "cell_type": "code",
   "execution_count": 175,
   "metadata": {
    "collapsed": false
   },
   "outputs": [
    {
     "data": {
      "text/html": [
       "<div>\n",
       "<table border=\"1\" class=\"dataframe\">\n",
       "  <thead>\n",
       "    <tr style=\"text-align: right;\">\n",
       "      <th></th>\n",
       "      <th>HOUR</th>\n",
       "      <th>COUNT</th>\n",
       "    </tr>\n",
       "  </thead>\n",
       "  <tbody>\n",
       "    <tr>\n",
       "      <th>0</th>\n",
       "      <td>0</td>\n",
       "      <td>13525</td>\n",
       "    </tr>\n",
       "    <tr>\n",
       "      <th>1</th>\n",
       "      <td>1</td>\n",
       "      <td>7547</td>\n",
       "    </tr>\n",
       "    <tr>\n",
       "      <th>2</th>\n",
       "      <td>2</td>\n",
       "      <td>5807</td>\n",
       "    </tr>\n",
       "    <tr>\n",
       "      <th>3</th>\n",
       "      <td>3</td>\n",
       "      <td>4857</td>\n",
       "    </tr>\n",
       "    <tr>\n",
       "      <th>4</th>\n",
       "      <td>4</td>\n",
       "      <td>5730</td>\n",
       "    </tr>\n",
       "  </tbody>\n",
       "</table>\n",
       "</div>"
      ],
      "text/plain": [
       "   HOUR  COUNT\n",
       "0     0  13525\n",
       "1     1   7547\n",
       "2     2   5807\n",
       "3     3   4857\n",
       "4     4   5730"
      ]
     },
     "execution_count": 175,
     "metadata": {},
     "output_type": "execute_result"
    }
   ],
   "source": [
    "#find total number of accidents on a specific time\n",
    "collisions_with_hour = collisions_main.copy()\n",
    "#use regex to isolate hour\n",
    "collisions_with_hour['HOUR'] = collisions_with_hour['TIME'].apply(lambda t : int(re.match('^[^:]*', t).group(0)))\n",
    "\n",
    "#group by hour\n",
    "collisions_grouped_time = collisions_with_hour.groupby(collisions_with_hour['HOUR'], \\\n",
    "                                                          as_index=True).count()\n",
    "collisions_grouped_time = collisions_grouped_time.drop('HOUR', axis=1)\n",
    "collisions_grouped_time = collisions_grouped_time.reset_index()\n",
    "collisions_grouped_time = collisions_grouped_time.rename(index=str, columns={'UNIQUE KEY' : 'COUNT'})\n",
    "collisions_grouped_time[['HOUR', 'COUNT']].head()"
   ]
  },
  {
   "cell_type": "code",
   "execution_count": 177,
   "metadata": {
    "collapsed": false
   },
   "outputs": [
    {
     "data": {
      "image/png": "[encoded data removed]",
      "text/plain": [
       "<matplotlib.figure.Figure at 0x16e239358>"
      ]
     },
     "metadata": {},
     "output_type": "display_data"
    }
   ],
   "source": [
    "plt.plot(collisions_grouped_time['HOUR'], collisions_grouped_time['COUNT'])\n",
    "plt.title('Collisions vs Time of Day')\n",
    "plt.ylabel('Accidents per Hour')\n",
    "plt.xlabel('Hour')\n",
    "plt.show()"
   ]
  },
  {
   "cell_type": "markdown",
   "metadata": {},
   "source": [
    "#### 2.2.1 Statistical Measures\n",
    "Here, we are plotting the total number of accidents in each hour over a 3-year period. But is this the best way to look at data over time? Another natural way to see it would be to ask what is the mean number of collisions per hour. Here, we must know what we are taking the mean over. If we take the mean over all days in the dataset, we'll get a sense of what the average day is like. To understand this, we'll use groupby again, but this time we'll group by both date and time."
   ]
  },
  {
   "cell_type": "code",
   "execution_count": 187,
   "metadata": {
    "collapsed": false
   },
   "outputs": [
    {
     "data": {
      "text/html": [
       "<div>\n",
       "<table border=\"1\" class=\"dataframe\">\n",
       "  <thead>\n",
       "    <tr style=\"text-align: right;\">\n",
       "      <th></th>\n",
       "      <th>DATE</th>\n",
       "      <th>HOUR</th>\n",
       "      <th>COUNT</th>\n",
       "    </tr>\n",
       "  </thead>\n",
       "  <tbody>\n",
       "    <tr>\n",
       "      <th>0</th>\n",
       "      <td>2015-01-01</td>\n",
       "      <td>0</td>\n",
       "      <td>6</td>\n",
       "    </tr>\n",
       "    <tr>\n",
       "      <th>1</th>\n",
       "      <td>2015-01-01</td>\n",
       "      <td>1</td>\n",
       "      <td>33</td>\n",
       "    </tr>\n",
       "    <tr>\n",
       "      <th>2</th>\n",
       "      <td>2015-01-01</td>\n",
       "      <td>2</td>\n",
       "      <td>32</td>\n",
       "    </tr>\n",
       "    <tr>\n",
       "      <th>3</th>\n",
       "      <td>2015-01-01</td>\n",
       "      <td>3</td>\n",
       "      <td>19</td>\n",
       "    </tr>\n",
       "    <tr>\n",
       "      <th>4</th>\n",
       "      <td>2015-01-01</td>\n",
       "      <td>4</td>\n",
       "      <td>25</td>\n",
       "    </tr>\n",
       "  </tbody>\n",
       "</table>\n",
       "</div>"
      ],
      "text/plain": [
       "        DATE  HOUR  COUNT\n",
       "0 2015-01-01     0      6\n",
       "1 2015-01-01     1     33\n",
       "2 2015-01-01     2     32\n",
       "3 2015-01-01     3     19\n",
       "4 2015-01-01     4     25"
      ]
     },
     "execution_count": 187,
     "metadata": {},
     "output_type": "execute_result"
    }
   ],
   "source": [
    "#group by date and time\n",
    "collisions_grouped_datetime = collisions_with_hour.copy()\n",
    "collisions_grouped_datetime = collisions_grouped_datetime.groupby([collisions_grouped_datetime['DATE'], \\\n",
    "                                                                   collisions_with_hour['HOUR']], as_index=True).count()\n",
    "collisions_grouped_datetime = collisions_grouped_datetime.drop('HOUR', axis=1)\n",
    "collisions_grouped_datetime = collisions_grouped_datetime.reset_index()\n",
    "collisions_grouped_datetime = collisions_grouped_datetime.rename(index=str, columns={'UNIQUE KEY' : 'COUNT'})\n",
    "collisions_grouped_datetime[['DATE','HOUR','COUNT']].head()"
   ]
  },
  {
   "cell_type": "markdown",
   "metadata": {},
   "source": [
    "Now that we have the collisions at every hour of every day, we can compare across days. To do this, we'll do one more groupby, but instead of looking at the count, we'll look at the average."
   ]
  },
  {
   "cell_type": "code",
   "execution_count": 190,
   "metadata": {
    "collapsed": false
   },
   "outputs": [
    {
     "data": {
      "text/html": [
       "<div>\n",
       "<table border=\"1\" class=\"dataframe\">\n",
       "  <thead>\n",
       "    <tr style=\"text-align: right;\">\n",
       "      <th></th>\n",
       "      <th>HOUR</th>\n",
       "      <th>COUNT</th>\n",
       "    </tr>\n",
       "  </thead>\n",
       "  <tbody>\n",
       "    <tr>\n",
       "      <th>0</th>\n",
       "      <td>0</td>\n",
       "      <td>17.120253</td>\n",
       "    </tr>\n",
       "    <tr>\n",
       "      <th>1</th>\n",
       "      <td>1</td>\n",
       "      <td>9.565272</td>\n",
       "    </tr>\n",
       "    <tr>\n",
       "      <th>2</th>\n",
       "      <td>2</td>\n",
       "      <td>7.388041</td>\n",
       "    </tr>\n",
       "    <tr>\n",
       "      <th>3</th>\n",
       "      <td>3</td>\n",
       "      <td>6.267097</td>\n",
       "    </tr>\n",
       "    <tr>\n",
       "      <th>4</th>\n",
       "      <td>4</td>\n",
       "      <td>7.365039</td>\n",
       "    </tr>\n",
       "  </tbody>\n",
       "</table>\n",
       "</div>"
      ],
      "text/plain": [
       "   HOUR      COUNT\n",
       "0     0  17.120253\n",
       "1     1   9.565272\n",
       "2     2   7.388041\n",
       "3     3   6.267097\n",
       "4     4   7.365039"
      ]
     },
     "execution_count": 190,
     "metadata": {},
     "output_type": "execute_result"
    }
   ],
   "source": [
    "#average over days\n",
    "collisions_avg_hour = collisions_grouped_datetime.groupby([collisions_grouped_datetime['HOUR']], \\\n",
    "                                                          as_index=True).mean().reset_index()\n",
    "collisions_avg_hour[['HOUR', 'COUNT']].head()"
   ]
  },
  {
   "cell_type": "code",
   "execution_count": 310,
   "metadata": {
    "collapsed": false
   },
   "outputs": [
    {
     "data": {
      "image/png": "[encoded data removed]",
      "text/plain": [
       "<matplotlib.figure.Figure at 0x135f6d4a8>"
      ]
     },
     "metadata": {},
     "output_type": "display_data"
    }
   ],
   "source": [
    "#plot average collisions per day\n",
    "plt.plot(collisions_avg_hour['HOUR'], collisions_avg_hour['COUNT'])\n",
    "plt.title('Average Collisions vs Time of Day')\n",
    "plt.ylabel('Accidents per Hour')\n",
    "plt.xlabel('Hour')\n",
    "plt.show()"
   ]
  },
  {
   "cell_type": "markdown",
   "metadata": {},
   "source": [
    "Here, we have recovered almost the same plot! This time, though, our axes are more informative. We can see, for example, that the average number of accidents at 12 am is a little bit over 15, and the average at around 4 pm, the peak time, is 45.\n",
    "\n",
    "Now that we have this grouped data, though, we can look at more than the mean. We can also see the standard deviation across days. Importantly, we could not have simply gotten this data by looking at the total number of accidents for each hour."
   ]
  },
  {
   "cell_type": "code",
   "execution_count": 193,
   "metadata": {
    "collapsed": false
   },
   "outputs": [
    {
     "data": {
      "text/html": [
       "<div>\n",
       "<table border=\"1\" class=\"dataframe\">\n",
       "  <thead>\n",
       "    <tr style=\"text-align: right;\">\n",
       "      <th></th>\n",
       "      <th>HOUR</th>\n",
       "      <th>COUNT</th>\n",
       "    </tr>\n",
       "  </thead>\n",
       "  <tbody>\n",
       "    <tr>\n",
       "      <th>0</th>\n",
       "      <td>0</td>\n",
       "      <td>7.891339</td>\n",
       "    </tr>\n",
       "    <tr>\n",
       "      <th>1</th>\n",
       "      <td>1</td>\n",
       "      <td>5.549259</td>\n",
       "    </tr>\n",
       "    <tr>\n",
       "      <th>2</th>\n",
       "      <td>2</td>\n",
       "      <td>5.109832</td>\n",
       "    </tr>\n",
       "    <tr>\n",
       "      <th>3</th>\n",
       "      <td>3</td>\n",
       "      <td>4.619041</td>\n",
       "    </tr>\n",
       "    <tr>\n",
       "      <th>4</th>\n",
       "      <td>4</td>\n",
       "      <td>5.239727</td>\n",
       "    </tr>\n",
       "  </tbody>\n",
       "</table>\n",
       "</div>"
      ],
      "text/plain": [
       "   HOUR     COUNT\n",
       "0     0  7.891339\n",
       "1     1  5.549259\n",
       "2     2  5.109832\n",
       "3     3  4.619041\n",
       "4     4  5.239727"
      ]
     },
     "execution_count": 193,
     "metadata": {},
     "output_type": "execute_result"
    }
   ],
   "source": [
    "#standard deviation over days\n",
    "collisions_std_hour = collisions_grouped_datetime.groupby([collisions_grouped_datetime['HOUR']], \\\n",
    "                                                          as_index=True).std().reset_index()\n",
    "collisions_std_hour[['HOUR', 'COUNT']].head()"
   ]
  },
  {
   "cell_type": "code",
   "execution_count": 309,
   "metadata": {
    "collapsed": false
   },
   "outputs": [
    {
     "data": {
      "image/png": "[encoded data removed]",
      "text/plain": [
       "<matplotlib.figure.Figure at 0x1378b0cf8>"
      ]
     },
     "metadata": {},
     "output_type": "display_data"
    }
   ],
   "source": [
    "#plot standard deviation\n",
    "plt.plot(collisions_std_hour['HOUR'], collisions_std_hour['COUNT'])\n",
    "plt.title('Standard Deviation in Collisions vs Time of Day')\n",
    "plt.ylabel('Accidents per Hour')\n",
    "plt.xlabel('Hour')\n",
    "plt.show()"
   ]
  },
  {
   "cell_type": "markdown",
   "metadata": {},
   "source": [
    "Here, we see that while the morning is not the peak time for accidents, there is much more variance in accidents at this time than the peak time in the evening."
   ]
  },
  {
   "cell_type": "markdown",
   "metadata": {},
   "source": [
    "### 2.3 Collision Factors\n",
    "\n",
    "Here we see an interesting two-peaked distribution of collisions versus time. This is called a bimodal distribution. While our time plots tell us how collision rates change, they tell us nothing about their cause. By looking at the collision impact factors, we might be able to understand the cause of these two peaks better. To do this, we'll look at two peak times: 8 a.m. and 4 p.m. For each time, we'll find the most common collision factors. We'll use the unique IDs as a way of linking the collision factors table with the collision times table."
   ]
  },
  {
   "cell_type": "markdown",
   "metadata": {},
   "source": [
    "#### 2.3.1 8 a.m."
   ]
  },
  {
   "cell_type": "code",
   "execution_count": 214,
   "metadata": {
    "collapsed": false
   },
   "outputs": [
    {
     "data": {
      "text/html": [
       "<div>\n",
       "<table border=\"1\" class=\"dataframe\">\n",
       "  <thead>\n",
       "    <tr style=\"text-align: right;\">\n",
       "      <th></th>\n",
       "      <th>FACTOR</th>\n",
       "      <th>COUNT</th>\n",
       "      <th>AT_8</th>\n",
       "    </tr>\n",
       "  </thead>\n",
       "  <tbody>\n",
       "    <tr>\n",
       "      <th>45</th>\n",
       "      <td>UNSPECIFIED</td>\n",
       "      <td>34481</td>\n",
       "      <td>34481</td>\n",
       "    </tr>\n",
       "    <tr>\n",
       "      <th>8</th>\n",
       "      <td>DRIVER INATTENTION/DISTRACTION</td>\n",
       "      <td>5176</td>\n",
       "      <td>5176</td>\n",
       "    </tr>\n",
       "    <tr>\n",
       "      <th>13</th>\n",
       "      <td>FAILURE TO YIELD RIGHT-OF-WAY</td>\n",
       "      <td>1708</td>\n",
       "      <td>1708</td>\n",
       "    </tr>\n",
       "    <tr>\n",
       "      <th>14</th>\n",
       "      <td>FATIGUED/DROWSY</td>\n",
       "      <td>1625</td>\n",
       "      <td>1625</td>\n",
       "    </tr>\n",
       "    <tr>\n",
       "      <th>25</th>\n",
       "      <td>OTHER VEHICULAR</td>\n",
       "      <td>1574</td>\n",
       "      <td>1574</td>\n",
       "    </tr>\n",
       "    <tr>\n",
       "      <th>42</th>\n",
       "      <td>TURNING IMPROPERLY</td>\n",
       "      <td>933</td>\n",
       "      <td>933</td>\n",
       "    </tr>\n",
       "    <tr>\n",
       "      <th>4</th>\n",
       "      <td>BACKING UNSAFELY</td>\n",
       "      <td>888</td>\n",
       "      <td>888</td>\n",
       "    </tr>\n",
       "    <tr>\n",
       "      <th>21</th>\n",
       "      <td>LOST CONSCIOUSNESS</td>\n",
       "      <td>720</td>\n",
       "      <td>720</td>\n",
       "    </tr>\n",
       "    <tr>\n",
       "      <th>16</th>\n",
       "      <td>FOLLOWING TOO CLOSELY</td>\n",
       "      <td>712</td>\n",
       "      <td>712</td>\n",
       "    </tr>\n",
       "    <tr>\n",
       "      <th>31</th>\n",
       "      <td>PAVEMENT SLIPPERY</td>\n",
       "      <td>603</td>\n",
       "      <td>603</td>\n",
       "    </tr>\n",
       "  </tbody>\n",
       "</table>\n",
       "</div>"
      ],
      "text/plain": [
       "                            FACTOR  COUNT   AT_8\n",
       "45                     UNSPECIFIED  34481  34481\n",
       "8   DRIVER INATTENTION/DISTRACTION   5176   5176\n",
       "13   FAILURE TO YIELD RIGHT-OF-WAY   1708   1708\n",
       "14                 FATIGUED/DROWSY   1625   1625\n",
       "25                 OTHER VEHICULAR   1574   1574\n",
       "42              TURNING IMPROPERLY    933    933\n",
       "4                 BACKING UNSAFELY    888    888\n",
       "21              LOST CONSCIOUSNESS    720    720\n",
       "16           FOLLOWING TOO CLOSELY    712    712\n",
       "31               PAVEMENT SLIPPERY    603    603"
      ]
     },
     "execution_count": 214,
     "metadata": {},
     "output_type": "execute_result"
    }
   ],
   "source": [
    "#select all unique keys for collisions that happened at from 8-9am\n",
    "collisions_8am = collisions_with_hour[collisions_with_hour['HOUR']==8]\n",
    "unique_keys_8am = set(collisions_8am['UNIQUE KEY'])\n",
    "\n",
    "#select from factors table where unique key is in the set of keys at 8am\n",
    "factors_8am = factors_melted.copy()\n",
    "factors_8am['AT_8'] = factors_8am['UNIQUE KEY'].apply(lambda key: key in unique_keys_8am)\n",
    "factors_8am = factors_8am[factors_8am['AT_8']]\n",
    "factors_8am = factors_8am.groupby(factors_8am['FACTOR']).count().reset_index()\n",
    "factors_8am = factors_8am.rename(index=str, columns={'UNIQUE KEY' : 'COUNT'})\n",
    "factors_8am = factors_8am.sort_values(by='COUNT', ascending=False)\n",
    "factors_8am.head(n=10)"
   ]
  },
  {
   "cell_type": "markdown",
   "metadata": {},
   "source": [
    "Here we see the top 10 causes of accidents from the times 8-9 a.m. Unspecified is the most common due to lack of data, but after that we see that driver inattention, failure to yield right of way, and fatigue as the three most common collision factors."
   ]
  },
  {
   "cell_type": "markdown",
   "metadata": {},
   "source": [
    "#### 2.3.2 4 p.m."
   ]
  },
  {
   "cell_type": "code",
   "execution_count": 215,
   "metadata": {
    "collapsed": false
   },
   "outputs": [
    {
     "data": {
      "text/html": [
       "<div>\n",
       "<table border=\"1\" class=\"dataframe\">\n",
       "  <thead>\n",
       "    <tr style=\"text-align: right;\">\n",
       "      <th></th>\n",
       "      <th>FACTOR</th>\n",
       "      <th>COUNT</th>\n",
       "      <th>AT_8</th>\n",
       "    </tr>\n",
       "  </thead>\n",
       "  <tbody>\n",
       "    <tr>\n",
       "      <th>44</th>\n",
       "      <td>UNSPECIFIED</td>\n",
       "      <td>7600</td>\n",
       "      <td>7600</td>\n",
       "    </tr>\n",
       "    <tr>\n",
       "      <th>7</th>\n",
       "      <td>DRIVER INATTENTION/DISTRACTION</td>\n",
       "      <td>951</td>\n",
       "      <td>951</td>\n",
       "    </tr>\n",
       "    <tr>\n",
       "      <th>2</th>\n",
       "      <td>ALCOHOL INVOLVEMENT</td>\n",
       "      <td>407</td>\n",
       "      <td>407</td>\n",
       "    </tr>\n",
       "    <tr>\n",
       "      <th>24</th>\n",
       "      <td>OTHER VEHICULAR</td>\n",
       "      <td>287</td>\n",
       "      <td>287</td>\n",
       "    </tr>\n",
       "    <tr>\n",
       "      <th>40</th>\n",
       "      <td>TRAFFIC CONTROL DISREGARDED</td>\n",
       "      <td>211</td>\n",
       "      <td>211</td>\n",
       "    </tr>\n",
       "    <tr>\n",
       "      <th>12</th>\n",
       "      <td>FAILURE TO YIELD RIGHT-OF-WAY</td>\n",
       "      <td>178</td>\n",
       "      <td>178</td>\n",
       "    </tr>\n",
       "    <tr>\n",
       "      <th>13</th>\n",
       "      <td>FATIGUED/DROWSY</td>\n",
       "      <td>175</td>\n",
       "      <td>175</td>\n",
       "    </tr>\n",
       "    <tr>\n",
       "      <th>30</th>\n",
       "      <td>PAVEMENT SLIPPERY</td>\n",
       "      <td>153</td>\n",
       "      <td>153</td>\n",
       "    </tr>\n",
       "    <tr>\n",
       "      <th>41</th>\n",
       "      <td>TURNING IMPROPERLY</td>\n",
       "      <td>146</td>\n",
       "      <td>146</td>\n",
       "    </tr>\n",
       "    <tr>\n",
       "      <th>4</th>\n",
       "      <td>BACKING UNSAFELY</td>\n",
       "      <td>139</td>\n",
       "      <td>139</td>\n",
       "    </tr>\n",
       "  </tbody>\n",
       "</table>\n",
       "</div>"
      ],
      "text/plain": [
       "                            FACTOR  COUNT  AT_8\n",
       "44                     UNSPECIFIED   7600  7600\n",
       "7   DRIVER INATTENTION/DISTRACTION    951   951\n",
       "2              ALCOHOL INVOLVEMENT    407   407\n",
       "24                 OTHER VEHICULAR    287   287\n",
       "40     TRAFFIC CONTROL DISREGARDED    211   211\n",
       "12   FAILURE TO YIELD RIGHT-OF-WAY    178   178\n",
       "13                 FATIGUED/DROWSY    175   175\n",
       "30               PAVEMENT SLIPPERY    153   153\n",
       "41              TURNING IMPROPERLY    146   146\n",
       "4                 BACKING UNSAFELY    139   139"
      ]
     },
     "execution_count": 215,
     "metadata": {},
     "output_type": "execute_result"
    }
   ],
   "source": [
    "#select all unique keys for collisions that happened at from 8-9am\n",
    "collisions_4pm = collisions_with_hour[collisions_with_hour['HOUR']==4]\n",
    "unique_keys_4pm = set(collisions_4pm['UNIQUE KEY'])\n",
    "\n",
    "#select from factors table where unique key is in the set of keys at 8am\n",
    "factors_4pm = factors_melted.copy()\n",
    "factors_4pm['AT_8'] = factors_4pm['UNIQUE KEY'].apply(lambda key: key in unique_keys_4pm)\n",
    "factors_4pm = factors_4pm[factors_4pm['AT_8']]\n",
    "factors_4pm = factors_4pm.groupby(factors_4pm['FACTOR']).count().reset_index()\n",
    "factors_4pm = factors_4pm.rename(index=str, columns={'UNIQUE KEY' : 'COUNT'})\n",
    "factors_4pm = factors_4pm.sort_values(by='COUNT', ascending=False)\n",
    "factors_4pm.head(n=10)"
   ]
  },
  {
   "cell_type": "markdown",
   "metadata": {},
   "source": [
    "Here, we see some significant changes. Unspecified and driver inattention still take the lead, but now alcohol involvement is 2nd and failure to yield and fatigue drop down to 6th and 7th place respectively. So the two peaks have slightly different origins. In conclusion, we predict time of day matters not only for the rate of accidents but also for the cause."
   ]
  },
  {
   "cell_type": "markdown",
   "metadata": {},
   "source": [
    "## 3. Machine Learning\n",
    "Machine learning is all about finding patterns in data and being able to make predictions. We'll use a specific kind of machine called supervised machine learning. In supervised machine, we'll train some predictor using a training dataset, and we'll see how well this predictor predicts another dataset, called the test data set."
   ]
  },
  {
   "cell_type": "markdown",
   "metadata": {},
   "source": [
    "### 3.1 Choosing our Hypothesis\n",
    "First, we need to decided what we want to predict. Based on average collisions, it seems we might be able to predict the amount collisions at a certain hour based on what time of day it is. The goal of our machine learning predictor will then be to take a time of day, and output a rate of collision.\n",
    "\n",
    "The next step is choosing what our hypothesis is. Our data doesn't seem to be linear or follow the form of a well-known function, so we'll need some kind of polynomial to predict it. We're not sure about the degree of this polynomial, but later we'll learn how to choose the best degree."
   ]
  },
  {
   "cell_type": "markdown",
   "metadata": {},
   "source": [
    "### 3.2 Numpy Polyfit\n",
    "The specific algorithm we will use is numpy's polyfit. Polyfit will \"train\" on a set of x and y points and a degree n, and return a set of n+1 coefficients specifying a degree n polynomial best fitting those points. The coefficients can then be used to predict y given any value of x. For more information on polyfit, look here: https://docs.scipy.org/doc/numpy/reference/generated/numpy.polyfit.html.\n",
    "\n",
    "We know we want to predict number of accidents, so it makes sense that this would be our y value. Since we are predicting by time of day, for x we should use hour. Now we need to train a polynomial fit that takes hours to number of accidents. Let's do a little example on a small subset of our data to see how this works."
   ]
  },
  {
   "cell_type": "code",
   "execution_count": 312,
   "metadata": {
    "collapsed": false
   },
   "outputs": [
    {
     "data": {
      "image/png": "[encoded data removed]",
      "text/plain": [
       "<matplotlib.figure.Figure at 0x12d9c8e10>"
      ]
     },
     "metadata": {},
     "output_type": "display_data"
    }
   ],
   "source": [
    "#select 1000 random points from dataset\n",
    "collisions_sampled = collisions_grouped_datetime.copy().sample(1000)\n",
    "\n",
    "#do a polynomial fit with degree 5\n",
    "example_fit = np.polyfit(collisions_sampled['HOUR'], collisions_sampled['COUNT'], 5)\n",
    "example_poly = np.poly1d(example_fit)\n",
    "\n",
    "predicted_x = np.linspace(0,23, 100)\n",
    "predicted_y = example_poly(predicted_x)\n",
    "plt.plot(predicted_x, predicted_y)\n",
    "plt.plot(collisions_sampled['HOUR'], collisions_sampled['COUNT'], '^')\n",
    "plt.title('Example using random sample of 1000 points')\n",
    "plt.ylabel('Accidents Per Hour')\n",
    "plt.xlabel('Hour')\n",
    "plt.show()"
   ]
  },
  {
   "cell_type": "markdown",
   "metadata": {},
   "source": [
    "### 3.3 Splitting our Data\n",
    "Now we're ready to split our data into test and training. Once we split, we can't go back -- we don't want to use information from our test data to train our predictor. When we split our data into test and train, we want as little difference in the distribution between these two datasets as possible. So we'll shuffle our data randomly before splitting into test and train samples.\n",
    "\n",
    "We also need to decide how much to train on and how much to test on. Generally we put more data into training than testing, so we'll choose to have 1/3rd of our data as test data."
   ]
  },
  {
   "cell_type": "code",
   "execution_count": 313,
   "metadata": {
    "collapsed": false
   },
   "outputs": [],
   "source": [
    "#randomly shuffle the data\n",
    "collisions_large_sample = collisions_grouped_datetime.copy().sample(frac=1)\n",
    "cutoff = int(len(collisions_large_sample)*(2/3))\n",
    "\n",
    "#split the data\n",
    "collisions_train = collisions_large_sample[0:cutoff]\n",
    "collisions_test = collisions_large_sample[cutoff::]"
   ]
  },
  {
   "cell_type": "markdown",
   "metadata": {},
   "source": [
    "### 3.4 Selecting our Hyperparameter\n",
    "In our example above, it looks like we found a pretty good fit. But is degree 5 really the best degree? There are many possible values of degree, and each will give a different function for training and predicting. This is called a hyperparameter.\n",
    "\n",
    "#### 3.4.1 Overfitting\n",
    "It may seem that increasing our degree will always give a better fit, because with a higher degree the polynomial can fit more points exactly. But it's important to remember that when we fit our polynomial we are only looking at the training data -- that is, the data we selected originally to create our function. It may be the case that as we fit the training better, we fit our test data worse. This is called overfitting, and it's something we want to avoid. Later on, we'll see that if our degree is too high, we can overfit our data. Overfitting is a complicated issue, one that has many causes and can be hard to detect. To learn more about overfitting, see http://blog.minitab.com/blog/adventures-in-statistics-2/the-danger-of-overfitting-regression-models.\n",
    "\n",
    "#### 3.4.2 Cross-Validation\n",
    "To avoid overfitting, we can't just train our algorithm on our test data. If we did this, then we would have no more data to test our algorithm on! Instead, what we can do is split our training data into two parts: one for training and one for validation. Validation data is data we just use to test one value of the hyperparameter. We will make a new split for each value of the hyperparameter that we want to test. Then, once we have found the best hyperparameter, we'll run our predictor on the test data and see how well we actually predict.\n",
    "\n",
    "We'll try 15 different possible degrees, and see which gives us the lowest error on our validation set. For each degree, we'll test with 70 different possible training/validation splits, just for more accuracy. To do cross-validation, we'll use the function cross_validation.KFold from the scikit-learn library. Scikit-learn is a general-purpose library for machine learning, but we'll only be using a few features from it in this tutorial. For more information about the cross-validation function, see http://scikit-learn.org/stable/modules/generated/sklearn.model_selection.KFold.html."
   ]
  },
  {
   "cell_type": "code",
   "execution_count": 314,
   "metadata": {
    "collapsed": false
   },
   "outputs": [],
   "source": [
    "#10-fold cross-validation\n",
    "x_train = collisions_train['HOUR']\n",
    "y_train = collisions_train['COUNT']\n",
    "cv = cross_validation.KFold(len(x_train), n_folds=70)\n",
    "\n",
    "validation_errors = []\n",
    "train_errors = []\n",
    "for degree in range(1,50):\n",
    "    avg_train_error = 0\n",
    "    avg_validation_error = 0\n",
    "    for testcv, traincv in cv:\n",
    "        #train our data with training subset\n",
    "        cv_fit = np.polyfit(x_train[traincv], y_train[traincv], degree)\n",
    "        cv_poly = np.poly1d(cv_fit)\n",
    "\n",
    "        #test accuracy of data using squared error\n",
    "        #training error\n",
    "        predicted_train = cv_poly(x_train[traincv])\n",
    "        train_error = (predicted_train - y_train[traincv])**2\n",
    "        avg_train_error += np.mean(train_error)/70\n",
    "\n",
    "        #validation error\n",
    "        predicted_validation = cv_poly(x_train[testcv])\n",
    "        validation_error = (predicted_validation - y_train[testcv])**2\n",
    "        avg_validation_error += np.mean(validation_error)/70\n",
    "    train_errors.append(avg_train_error)\n",
    "    validation_errors.append(avg_validation_error)"
   ]
  },
  {
   "cell_type": "code",
   "execution_count": 315,
   "metadata": {
    "collapsed": false
   },
   "outputs": [
    {
     "data": {
      "image/png": "[encoded data removed]",
      "text/plain": [
       "<matplotlib.figure.Figure at 0x12d9c8320>"
      ]
     },
     "metadata": {},
     "output_type": "display_data"
    }
   ],
   "source": [
    "#plot it\n",
    "plt.plot(train_errors, label='Training Error')\n",
    "plt.plot(validation_errors, label='Validation Error')\n",
    "plt.legend()\n",
    "plt.title('Training and Validation Error')\n",
    "plt.ylabel('Error')\n",
    "plt.xlabel('Degree')\n",
    "plt.show()"
   ]
  },
  {
   "cell_type": "markdown",
   "metadata": {},
   "source": [
    "Here we can see some overfitting. The green line, corresponding to validation error, decreases along with the training error, but at some point around 10 it starts increasing again. This point is the minimum error, and it's the hyperparameter that we actually want to use."
   ]
  },
  {
   "cell_type": "code",
   "execution_count": 318,
   "metadata": {
    "collapsed": false
   },
   "outputs": [
    {
     "name": "stdout",
     "output_type": "stream",
     "text": [
      "9\n"
     ]
    }
   ],
   "source": [
    "#find minimum error\n",
    "mindeg = np.argmin(validation_errors)\n",
    "print(mindeg)"
   ]
  },
  {
   "cell_type": "markdown",
   "metadata": {},
   "source": [
    "So, now we have found that we fit the data best with degree 9. Now we're ready to use the full force of our training data to train our predictor."
   ]
  },
  {
   "cell_type": "code",
   "execution_count": 319,
   "metadata": {
    "collapsed": true
   },
   "outputs": [],
   "source": [
    "#train on full training data\n",
    "final_predictor = np.polyfit(x_train, y_train, mindeg)\n",
    "final_poly = np.poly1d(final_predictor)"
   ]
  },
  {
   "cell_type": "markdown",
   "metadata": {},
   "source": [
    "Now, let's see how we do on the test data."
   ]
  },
  {
   "cell_type": "code",
   "execution_count": 321,
   "metadata": {
    "collapsed": false
   },
   "outputs": [
    {
     "data": {
      "image/png": "[encoded data removed]",
      "text/plain": [
       "<matplotlib.figure.Figure at 0x138c2ae10>"
      ]
     },
     "metadata": {},
     "output_type": "display_data"
    }
   ],
   "source": [
    "#Plot our fit versus test data\n",
    "x_test = collisions_test['HOUR']\n",
    "y_test = collisions_test['COUNT']\n",
    "predicted_x = np.linspace(0,23, 100)\n",
    "predicted_y = final_poly(predicted_x)\n",
    "plt.plot(predicted_x, predicted_y)\n",
    "plt.plot(x_test, y_test, '^')\n",
    "plt.title('Test Data vs Prediction')\n",
    "plt.ylabel('Accidents Per Hour')\n",
    "plt.xlabel('Hour')\n",
    "plt.show()"
   ]
  },
  {
   "cell_type": "markdown",
   "metadata": {},
   "source": [
    "For a more quantitative look, we can look at how well our polynomial fit the test data on average. To do this, we'll use the square root of the mean squared error. This is a common error metric because it is always positive and has the same units as your data."
   ]
  },
  {
   "cell_type": "code",
   "execution_count": 322,
   "metadata": {
    "collapsed": false
   },
   "outputs": [
    {
     "name": "stdout",
     "output_type": "stream",
     "text": [
      "9.38283011376\n"
     ]
    }
   ],
   "source": [
    "#get square root of mean squared error\n",
    "test_error = np.sqrt(np.mean((y_test - final_poly(x_test))**2))\n",
    "print(test_error)"
   ]
  },
  {
   "cell_type": "markdown",
   "metadata": {},
   "source": [
    "This means we're off by about 9 accidents on average."
   ]
  },
  {
   "cell_type": "markdown",
   "metadata": {},
   "source": [
    "## 4. Hypothesis Testing\n",
    "So how good is our hypothesis? The fundamental question we want to ask is whether there is a relationship between time and number of accidents. Otherwise, we would accept the null hypothesis, that there is no relation. There are many ways to test a hypothesis, but we will use the $R^{2}$ score. The $R^{2}$ test compares the variation for all y values sharing a common x value with the variation from the prediction. If these variations are similar, it implies that most of the error is just due to random deviation from the model. The best possible $R^{2}$ score is 1, and the worst is 0. For more information about the $R^{2}$ score, see http://blog.minitab.com/blog/adventures-in-statistics-2/regression-analysis-how-do-i-interpret-r-squared-and-assess-the-goodness-of-fit. (Note that the website discusses linear models, and our model appears not to be linear. As a matter of fact, though, the underlying code for numpy.polyfit is just fitting a multivariable linear model, so the $R^{2}$ still applies.)"
   ]
  },
  {
   "cell_type": "code",
   "execution_count": 323,
   "metadata": {
    "collapsed": false
   },
   "outputs": [
    {
     "name": "stdout",
     "output_type": "stream",
     "text": [
      "0.630747947816\n"
     ]
    }
   ],
   "source": [
    "r2_score = sklearn.metrics.r2_score(y_test, final_poly(x_test))\n",
    "print(r2_score)"
   ]
  },
  {
   "cell_type": "markdown",
   "metadata": {},
   "source": [
    "This is a pretty good value - it means we explain most of the error. However, it's important to note that $R^{2}$, and indeed any statistical is not a bottom line. It is merely a check on what we already have found based on our analysis and machine learning -- that there does appear to be a relation between car collisions and time of day."
   ]
  },
  {
   "cell_type": "markdown",
   "metadata": {},
   "source": [
    "## Conclusion\n",
    "Knowing when and and why collisions happen is important for many people, from police departments to drivers to first responders. This is just one example of how data science can help people make better decisions.\n",
    "\n",
    "Now that we know that the peak times for collisions are 4 p.m. and and 8 a.m., we could be more cautious when driving at these times. We are also more informed of the risks because we know the top ten factors for collisions at these times. \n",
    "\n",
    "This dataset is very rich and there is a lot more interesting questions we can ask. For example, we could look at location, frequency of injuries and fatalities, and even what vehicles were involved in a crash. We encourage the reader to download the dataset and do their own experiments.\n",
    "\n",
    "### References\n",
    "- Anaconda https://www.continuum.io\n",
    "- Collision Dataset https://www.kaggle.com/nypd/vehicle-collisions\n",
    "- Pandas http://pandas.pydata.org\n",
    "    - Cheat Sheet https://www.dataquest.io/blog/images/cheat-sheets/pandas-cheat-sheet.pdf\n",
    "    - Melt http://pandas.pydata.org/pandas-docs/stable/generated/pandas.melt.html\n",
    "    - Groupby http://pandas.pydata.org/pandas-docs/stable/generated/pandas.DataFrame.groupby.html\n",
    "- Matplotlib http://matplotlib.org/contents.html\n",
    "- Regex https://docs.python.org/2/library/re.html\n",
    "- Polyfit https://docs.scipy.org/doc/numpy/reference/generated/numpy.polyfit.html\n",
    "- Scikit-learn http://scikit-learn.org/stable/\n",
    "    - K-Fold Cross-validation http://scikit-learn.org/stable/modules/generated/sklearn.model_selection.KFold.html\n",
    "- $R^2$ testing http://blog.minitab.com/blog/adventures-in-statistics-2/regression-analysis-how-do-i-interpret-r-squared-and-assess-the-goodness-of-fit"
   ]
  }
 ],
 "metadata": {
  "anaconda-cloud": {},
  "kernelspec": {
   "display_name": "Python [conda root]",
   "language": "python",
   "name": "conda-root-py"
  },
  "language_info": {
   "codemirror_mode": {
    "name": "ipython",
    "version": 3
   },
   "file_extension": ".py",
   "mimetype": "text/x-python",
   "name": "python",
   "nbconvert_exporter": "python",
   "pygments_lexer": "ipython3",
   "version": "3.5.2"
  }
 },
 "nbformat": 4,
 "nbformat_minor": 1
}
